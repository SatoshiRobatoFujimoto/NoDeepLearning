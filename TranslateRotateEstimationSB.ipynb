{
 "cells": [
  {
   "cell_type": "code",
   "execution_count": 1,
   "metadata": {
    "collapsed": true
   },
   "outputs": [],
   "source": [
    "import chainer"
   ]
  },
  {
   "cell_type": "code",
   "execution_count": 2,
   "metadata": {
    "collapsed": true
   },
   "outputs": [],
   "source": [
    "from chainer.dataset import convert"
   ]
  },
  {
   "cell_type": "code",
   "execution_count": 3,
   "metadata": {
    "collapsed": true
   },
   "outputs": [],
   "source": [
    "import chainer\n",
    "import chainer.functions as F\n",
    "import chainer.links as L\n",
    "from chainer import reporter"
   ]
  },
  {
   "cell_type": "code",
   "execution_count": 4,
   "metadata": {
    "collapsed": true
   },
   "outputs": [],
   "source": [
    "import rot\n",
    "from rot import rotation3d"
   ]
  },
  {
   "cell_type": "code",
   "execution_count": 5,
   "metadata": {
    "collapsed": true
   },
   "outputs": [],
   "source": [
    "from pyntcloud import PyntCloud"
   ]
  },
  {
   "cell_type": "code",
   "execution_count": 6,
   "metadata": {
    "collapsed": true
   },
   "outputs": [],
   "source": [
    "import numpy as np\n",
    "\n",
    "class PreprocessedDataset(chainer.dataset.DatasetMixin):\n",
    "    def __init__(self, points):\n",
    "        self.x = points + (np.random.rand(*points.shape).astype(np.float32) - 0.5) / 1000\n",
    "        r = np.random.rand(3).astype(np.float32)\n",
    "        t = np.random.rand(1, 3).astype(np.float32) / 20\n",
    "        self.y = []\n",
    "        for x in self.x:\n",
    "            self.y.append((self.rotation(x, r) + t).reshape(-1))\n",
    "        self.y = np.array(self.y)\n",
    "        self.y += (np.random.rand(*self.y.shape).astype(np.float32) - 0.5) / 1000\n",
    "\n",
    "    def rodrigues(self, r):\n",
    "            def S(n):\n",
    "                Sn = np.array([[0,-n[2],n[1]],[n[2],0,-n[0]],[-n[1],n[0],0]])\n",
    "                return Sn\n",
    "\n",
    "            theta = np.linalg.norm(r)\n",
    "\n",
    "            if theta > 1e-16:\n",
    "                n = r / theta\n",
    "                Sn = S(n)\n",
    "                R = np.eye(3) + \\\n",
    "                    np.sin(theta) * Sn + \\\n",
    "                    (1 - np.cos(theta)) * np.dot(Sn, Sn)\n",
    "            else:\n",
    "                Sr = S(r)\n",
    "                theta2 = theta**2\n",
    "                R = np.eye(3) + \\\n",
    "                    (1- theta2/6.) * Sr + \\\n",
    "                    (.5 - theta2/24.) * np.dot(Sr, Sr)\n",
    "\n",
    "            return R.astype(r.dtype)\n",
    "\n",
    "    def rotation(self, x, r):\n",
    "        rmat = self.rodrigues(r)\n",
    "        return x.dot(rmat.T).astype(x.dtype, copy=False)\n",
    "\n",
    "    def __len__(self):\n",
    "        return len(self.x)\n",
    "\n",
    "    def get_example(self, i):\n",
    "        return self.x[i], self.y[i]"
   ]
  },
  {
   "cell_type": "code",
   "execution_count": 7,
   "metadata": {
    "collapsed": true
   },
   "outputs": [],
   "source": [
    "class Net(chainer.Chain):\n",
    "    def __init__(self):\n",
    "        super(Net, self).__init__()\n",
    "        \n",
    "        with self.init_scope():\n",
    "            self.embd = L.EmbedID(2, 3)\n",
    "\n",
    "    def __call__(self, x):\n",
    "        xp = chainer.cuda.get_array_module(x.data)            \n",
    "        r = self.embd(xp.array([0], dtype=np.int32))\n",
    "        r = F.reshape(r, (3,))\n",
    "        \n",
    "        t = self.embd(xp.array([1], dtype=np.int32))\n",
    "        t = F.broadcast_to(t, x.shape)\n",
    "            \n",
    "        return rotation3d(x, r) + t"
   ]
  },
  {
   "cell_type": "code",
   "execution_count": 8,
   "metadata": {
    "collapsed": true
   },
   "outputs": [],
   "source": [
    "cloud = PyntCloud.from_file('model/bunny/reconstruction/bun_zipper.ply')"
   ]
  },
  {
   "cell_type": "code",
   "execution_count": 9,
   "metadata": {
    "collapsed": true
   },
   "outputs": [],
   "source": [
    "import pandas as pd"
   ]
  },
  {
   "cell_type": "code",
   "execution_count": 10,
   "metadata": {
    "collapsed": true
   },
   "outputs": [],
   "source": [
    "data = PreprocessedDataset(cloud.xyz)"
   ]
  },
  {
   "cell_type": "code",
   "execution_count": 11,
   "metadata": {
    "collapsed": true
   },
   "outputs": [],
   "source": [
    "points = pd.DataFrame([])\n",
    "points['x'] = np.concatenate((data.x[:,0], data.y[:,0]))\n",
    "points['y'] = np.concatenate((data.x[:,1], data.y[:,1]))\n",
    "points['z'] = np.concatenate((data.x[:,2], data.y[:,2]))\n",
    "points['red'] = np.concatenate((np.ones((len(cloud.points),)) * 255, np.zeros((len(cloud.points),)))).astype(np.uint8)\n",
    "points['green'] = np.concatenate((np.zeros((len(cloud.points),)), np.ones((len(cloud.points),)) * 255)).astype(np.uint8)\n",
    "points['blue'] = np.concatenate((np.zeros((len(cloud.points),)), np.ones((len(cloud.points),)) * 255)).astype(np.uint8)\n",
    "points = PyntCloud(points)"
   ]
  },
  {
   "cell_type": "code",
   "execution_count": 12,
   "metadata": {
    "collapsed": true
   },
   "outputs": [],
   "source": [
    "#points.plot()\n",
    "points.to_file(\"SB_init.ply\")"
   ]
  },
  {
   "cell_type": "code",
   "execution_count": 13,
   "metadata": {
    "collapsed": true
   },
   "outputs": [],
   "source": [
    "net = Net()"
   ]
  },
  {
   "cell_type": "code",
   "execution_count": 14,
   "metadata": {
    "collapsed": true
   },
   "outputs": [],
   "source": [
    "class loss_function(chainer.link.Chain):\n",
    "    def __init__(self, predictor):\n",
    "        super(loss_function, self).__init__(predictor=predictor)\n",
    "\n",
    "    def __call__(self, x, y):\n",
    "        py = self.predictor(x)\n",
    "        self.loss = F.mean_squared_error(py, y)\n",
    "        reporter.report({'loss': self.loss}, self)\n",
    "        return self.loss"
   ]
  },
  {
   "cell_type": "code",
   "execution_count": 15,
   "metadata": {
    "collapsed": true
   },
   "outputs": [],
   "source": [
    "model = loss_function(net)"
   ]
  },
  {
   "cell_type": "code",
   "execution_count": 16,
   "metadata": {
    "collapsed": true
   },
   "outputs": [],
   "source": [
    "optimizer = chainer.optimizers.Adam(alpha=0.1)\n",
    "optimizer.setup(model)"
   ]
  },
  {
   "cell_type": "code",
   "execution_count": 17,
   "metadata": {},
   "outputs": [
    {
     "data": {
      "text/plain": [
       "variable(0.6012029051780701)"
      ]
     },
     "execution_count": 17,
     "metadata": {},
     "output_type": "execute_result"
    }
   ],
   "source": [
    "model(*convert.concat_examples(data[:], -1))"
   ]
  },
  {
   "cell_type": "code",
   "execution_count": 18,
   "metadata": {
    "scrolled": false
   },
   "outputs": [
    {
     "name": "stdout",
     "output_type": "stream",
     "text": [
      "epoch: 50, train mean loss: 0.004862910136580467\n",
      "epoch: 100, train mean loss: 0.001673776307143271\n",
      "epoch: 150, train mean loss: 0.0003763889253605157\n",
      "epoch: 200, train mean loss: 0.00040262125548906624\n",
      "epoch: 250, train mean loss: 0.00041844407678581774\n",
      "epoch: 300, train mean loss: 0.0004251069331075996\n",
      "epoch: 350, train mean loss: 0.00041747817886061966\n",
      "epoch: 400, train mean loss: 0.0003882935270667076\n",
      "epoch: 450, train mean loss: 0.00032769699464552104\n",
      "epoch: 500, train mean loss: 0.00023173274530563504\n"
     ]
    }
   ],
   "source": [
    "data_iter = chainer.iterators.SerialIterator(data, len(data))\n",
    "data_count = len(data)\n",
    "\n",
    "sum_loss = 0\n",
    "\n",
    "while data_iter.epoch < 500:\n",
    "    batch = data_iter.next()\n",
    "    x_array, y_array = convert.concat_examples(batch, -1)\n",
    "    x = chainer.Variable(x_array)\n",
    "    y = chainer.Variable(y_array)\n",
    "    optimizer.update(model, x, y)\n",
    "    sum_loss += float(model.loss.data) * len(y.data)\n",
    "\n",
    "    if data_iter.is_new_epoch:\n",
    "        if data_iter.epoch % 50 == 0:\n",
    "            print('epoch: {}, train mean loss: {}'.format(data_iter.epoch, sum_loss / data_count))\n",
    "        sum_loss = 0"
   ]
  },
  {
   "cell_type": "code",
   "execution_count": 19,
   "metadata": {
    "collapsed": true
   },
   "outputs": [],
   "source": [
    "x_array, y_array = convert.concat_examples(batch, -1)\n",
    "x = chainer.Variable(x_array)\n",
    "y = chainer.Variable(y_array)\n",
    "x = net(x)\n",
    "\n",
    "points = pd.DataFrame([])\n",
    "points['x'] = np.concatenate((x.data[:,0], y.data[:,0]))\n",
    "points['y'] = np.concatenate((x.data[:,1], y.data[:,1]))\n",
    "points['z'] = np.concatenate((x.data[:,2], y.data[:,2]))\n",
    "points['red'] = np.concatenate((np.ones((len(cloud.points),)) * 255, np.zeros((len(cloud.points),)))).astype(np.uint8)\n",
    "points['green'] = np.concatenate((np.zeros((len(cloud.points),)), np.ones((len(cloud.points),)) * 255)).astype(np.uint8)\n",
    "points['blue'] = np.concatenate((np.zeros((len(cloud.points),)), np.ones((len(cloud.points),)) * 255)).astype(np.uint8)\n",
    "points = PyntCloud(points)"
   ]
  },
  {
   "cell_type": "code",
   "execution_count": 20,
   "metadata": {
    "collapsed": true
   },
   "outputs": [],
   "source": [
    "#points.plot()\n",
    "points.to_file(\"SB.ply\")"
   ]
  },
  {
   "cell_type": "code",
   "execution_count": null,
   "metadata": {
    "collapsed": true
   },
   "outputs": [],
   "source": []
  }
 ],
 "metadata": {
  "kernelspec": {
   "display_name": "Python 3",
   "language": "python",
   "name": "python3"
  },
  "language_info": {
   "codemirror_mode": {
    "name": "ipython",
    "version": 3
   },
   "file_extension": ".py",
   "mimetype": "text/x-python",
   "name": "python",
   "nbconvert_exporter": "python",
   "pygments_lexer": "ipython3",
   "version": "3.5.3"
  },
  "widgets": {
   "state": {},
   "version": "1.1.2"
  }
 },
 "nbformat": 4,
 "nbformat_minor": 2
}
