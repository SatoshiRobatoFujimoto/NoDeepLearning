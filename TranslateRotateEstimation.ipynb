{
 "cells": [
  {
   "cell_type": "code",
   "execution_count": 1,
   "metadata": {
    "collapsed": true
   },
   "outputs": [],
   "source": [
    "import chainer"
   ]
  },
  {
   "cell_type": "code",
   "execution_count": 2,
   "metadata": {
    "collapsed": true
   },
   "outputs": [],
   "source": [
    "from chainer.dataset import convert"
   ]
  },
  {
   "cell_type": "code",
   "execution_count": 3,
   "metadata": {
    "collapsed": true
   },
   "outputs": [],
   "source": [
    "import chainer\n",
    "import chainer.functions as F\n",
    "import chainer.links as L\n",
    "from chainer import reporter"
   ]
  },
  {
   "cell_type": "code",
   "execution_count": 4,
   "metadata": {
    "collapsed": true
   },
   "outputs": [],
   "source": [
    "import rot\n",
    "from rot import rotation3d"
   ]
  },
  {
   "cell_type": "code",
   "execution_count": 5,
   "metadata": {
    "collapsed": true
   },
   "outputs": [],
   "source": [
    "import numpy as np\n",
    "\n",
    "class PreprocessedDataset(chainer.dataset.DatasetMixin):\n",
    "    def __init__(self, nb_data):\n",
    "        self.x = np.random.rand(nb_data, 3).astype(np.float32)\n",
    "        r = np.random.rand(3).astype(np.float32)\n",
    "        t = np.random.rand(1, 3).astype(np.float32)\n",
    "        self.y = []\n",
    "        for x in self.x:\n",
    "            self.y.append((self.rotation(x, r) + t).reshape(-1))\n",
    "        self.y = np.array(self.y)\n",
    "\n",
    "    def rodrigues(self, r):\n",
    "            def S(n):\n",
    "                Sn = np.array([[0,-n[2],n[1]],[n[2],0,-n[0]],[-n[1],n[0],0]])\n",
    "                return Sn\n",
    "\n",
    "            theta = np.linalg.norm(r)\n",
    "\n",
    "            if theta > 1e-16:\n",
    "                n = r / theta\n",
    "                Sn = S(n)\n",
    "                R = np.eye(3) + \\\n",
    "                    np.sin(theta) * Sn + \\\n",
    "                    (1 - np.cos(theta)) * np.dot(Sn, Sn)\n",
    "            else:\n",
    "                Sr = S(r)\n",
    "                theta2 = theta**2\n",
    "                R = np.eye(3) + \\\n",
    "                    (1- theta2/6.) * Sr + \\\n",
    "                    (.5 - theta2/24.) * np.dot(Sr, Sr)\n",
    "\n",
    "            return R.astype(r.dtype)\n",
    "\n",
    "    def rotation(self, x, r):\n",
    "        rmat = self.rodrigues(r)\n",
    "        return x.dot(rmat.T).astype(x.dtype, copy=False)\n",
    "\n",
    "    def __len__(self):\n",
    "        return len(self.x)\n",
    "\n",
    "    def get_example(self, i):\n",
    "        return self.x[i], self.y[i]"
   ]
  },
  {
   "cell_type": "code",
   "execution_count": 6,
   "metadata": {
    "collapsed": true
   },
   "outputs": [],
   "source": [
    "class Net(chainer.Chain):\n",
    "    def __init__(self):\n",
    "        super(Net, self).__init__()\n",
    "        \n",
    "        with self.init_scope():\n",
    "            self.embd = L.EmbedID(2, 3)\n",
    "\n",
    "    def __call__(self, x):\n",
    "        xp = chainer.cuda.get_array_module(x.data)            \n",
    "        r = self.embd(xp.array([0], dtype=np.int32))\n",
    "        r = F.reshape(r, (3,))\n",
    "        \n",
    "        t = self.embd(xp.array([1], dtype=np.int32))\n",
    "        t = F.broadcast_to(t, x.shape)\n",
    "            \n",
    "        return rotation3d(x, r) + t"
   ]
  },
  {
   "cell_type": "code",
   "execution_count": 7,
   "metadata": {
    "collapsed": true
   },
   "outputs": [],
   "source": [
    "data = PreprocessedDataset(nb_data = 1000)"
   ]
  },
  {
   "cell_type": "code",
   "execution_count": 8,
   "metadata": {
    "collapsed": true
   },
   "outputs": [],
   "source": [
    "net = Net()"
   ]
  },
  {
   "cell_type": "code",
   "execution_count": 9,
   "metadata": {
    "collapsed": true
   },
   "outputs": [],
   "source": [
    "class loss_function(chainer.link.Chain):\n",
    "    def __init__(self, predictor):\n",
    "        super(loss_function, self).__init__(predictor=predictor)\n",
    "\n",
    "    def __call__(self, x, y):\n",
    "        py = self.predictor(x)\n",
    "        self.loss = F.mean_squared_error(py, y)\n",
    "        reporter.report({'loss': self.loss}, self)\n",
    "        return self.loss"
   ]
  },
  {
   "cell_type": "code",
   "execution_count": 10,
   "metadata": {
    "collapsed": true
   },
   "outputs": [],
   "source": [
    "model = loss_function(net)"
   ]
  },
  {
   "cell_type": "code",
   "execution_count": 11,
   "metadata": {
    "collapsed": true
   },
   "outputs": [],
   "source": [
    "optimizer = chainer.optimizers.SGD(lr=1)\n",
    "optimizer.setup(model)"
   ]
  },
  {
   "cell_type": "code",
   "execution_count": 12,
   "metadata": {
    "scrolled": false
   },
   "outputs": [
    {
     "name": "stdout",
     "output_type": "stream",
     "text": [
      "epoch: 50, train mean loss: 0.00011391683074180037\n",
      "epoch: 100, train mean loss: 2.518971768949996e-07\n",
      "epoch: 150, train mean loss: 4.954581744875952e-10\n",
      "epoch: 200, train mean loss: 8.143964018783589e-13\n",
      "epoch: 250, train mean loss: 6.0233368382530024e-15\n",
      "epoch: 300, train mean loss: 6.0233368382530024e-15\n",
      "epoch: 350, train mean loss: 6.0233368382530024e-15\n",
      "epoch: 400, train mean loss: 6.0233368382530024e-15\n",
      "epoch: 450, train mean loss: 6.0233368382530024e-15\n",
      "epoch: 500, train mean loss: 6.0233368382530024e-15\n"
     ]
    }
   ],
   "source": [
    "data_iter = chainer.iterators.SerialIterator(data, len(data))\n",
    "data_count = len(data)\n",
    "\n",
    "sum_loss = 0\n",
    "\n",
    "while data_iter.epoch < 500:\n",
    "    batch = data_iter.next()\n",
    "    x_array, y_array = convert.concat_examples(batch, -1)\n",
    "    x = chainer.Variable(x_array)\n",
    "    y = chainer.Variable(y_array)\n",
    "    optimizer.update(model, x, y)\n",
    "    sum_loss += float(model.loss.data) * len(y.data)\n",
    "\n",
    "    if data_iter.is_new_epoch:\n",
    "        if data_iter.epoch % 50 == 0:\n",
    "            print('epoch: {}, train mean loss: {}'.format(data_iter.epoch, sum_loss / data_count))\n",
    "        sum_loss = 0"
   ]
  }
 ],
 "metadata": {
  "kernelspec": {
   "display_name": "Python 3",
   "language": "python",
   "name": "python3"
  },
  "language_info": {
   "codemirror_mode": {
    "name": "ipython",
    "version": 3
   },
   "file_extension": ".py",
   "mimetype": "text/x-python",
   "name": "python",
   "nbconvert_exporter": "python",
   "pygments_lexer": "ipython3",
   "version": "3.5.3"
  },
  "widgets": {
   "state": {},
   "version": "1.1.2"
  }
 },
 "nbformat": 4,
 "nbformat_minor": 2
}
